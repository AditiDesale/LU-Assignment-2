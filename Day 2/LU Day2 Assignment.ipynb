{
 "cells": [
  {
   "cell_type": "markdown",
   "metadata": {},
   "source": [
    "# Day2 Assignment"
   ]
  },
  {
   "cell_type": "code",
   "execution_count": 3,
   "metadata": {},
   "outputs": [],
   "source": [
    "def main():\n",
    "    even=[]\n",
    "    i=1\n",
    "    while i<11:\n",
    "        no=int(input())\n",
    "        if no%2==0:\n",
    "  \t        even.append(no)\n",
    "        i+=1\n",
    "    print(even)\n",
    "         "
   ]
  },
  {
   "cell_type": "code",
   "execution_count": 4,
   "metadata": {},
   "outputs": [
    {
     "name": "stdout",
     "output_type": "stream",
     "text": [
      "Comparison of list2 with list1 : \n",
      "1\n",
      "Comparison of list2 with list3(larger size) : \n",
      "-1\n",
      "Comparison of list4 with list1(equal) : \n",
      "0\n"
     ]
    }
   ],
   "source": [
    "def cmp(a, b):\n",
    "    return (a > b) - (a < b)\n",
    "list1 = [ 1, 2, 4, 3] \n",
    "list2 = [ 1, 2, 5, 8] \n",
    "list3 = [ 1, 2, 5, 8, 10] \n",
    "list4 = [ 1, 2, 4, 3] \n",
    "  \n",
    "# Comparing lists  \n",
    "print (\"Comparison of list2 with list1 : \") \n",
    "print (cmp(list2, list1))\n",
    "  \n",
    "# prints -1, because list3 has larger size than list2 \n",
    "print (\"Comparison of list2 with list3(larger size) : \") \n",
    "print (cmp(list2, list3)) \n",
    "  \n",
    "# prints 0 as list1 and list4 are equal \n",
    "print (\"Comparison of list4 with list1(equal) : \")\n",
    "print (cmp(list4, list1))"
   ]
  },
  {
   "cell_type": "code",
   "execution_count": 2,
   "metadata": {},
   "outputs": [
    {
     "name": "stdout",
     "output_type": "stream",
     "text": [
      "3\n",
      "{1: 1, 2: 4, 3: 9}\n"
     ]
    }
   ],
   "source": [
    "n=int(input())\n",
    "d={}\n",
    "for i in range(1,n+1):\n",
    "    d[i]=i*i\n",
    "print(d)    "
   ]
  },
  {
   "cell_type": "code",
   "execution_count": 1,
   "metadata": {},
   "outputs": [
    {
     "ename": "SyntaxError",
     "evalue": "invalid syntax (<ipython-input-1-24b6a7ee1767>, line 8)",
     "output_type": "error",
     "traceback": [
      "\u001b[1;36m  File \u001b[1;32m\"<ipython-input-1-24b6a7ee1767>\"\u001b[1;36m, line \u001b[1;32m8\u001b[0m\n\u001b[1;33m    elif direction[0].upper()==\"RIGHT\"\u001b[0m\n\u001b[1;37m    ^\u001b[0m\n\u001b[1;31mSyntaxError\u001b[0m\u001b[1;31m:\u001b[0m invalid syntax\n"
     ]
    }
   ],
   "source": [
    "x=0\n",
    "y=0\n",
    "n= int(input())\n",
    "for i in range(n):\n",
    "    direction=input().split('')\n",
    "    if direction[0].upper()==\"UP\":\n",
    "        y+=int (direction[1])\n",
    "        elif direction[0].upper()==\"RIGHT\":\n",
    "            x+= int (direction[1])\n",
    "            elif direction[0].upper()==\"DOWN\":\n",
    "                y-== int (direction[1])\n",
    "                elif direction[0].upper()==\"LEFT\":\n",
    "                    x-==int (direction[1])\n",
    "                    else:\n",
    "                        print(\"Invalid Input\")\n",
    "pos= float ((x**2+y**2)**0.5)\n",
    "print(round(pos))"
   ]
  },
  {
   "cell_type": "code",
   "execution_count": null,
   "metadata": {},
   "outputs": [],
   "source": []
  }
 ],
 "metadata": {
  "kernelspec": {
   "display_name": "Python 3",
   "language": "python",
   "name": "python3"
  },
  "language_info": {
   "codemirror_mode": {
    "name": "ipython",
    "version": 3
   },
   "file_extension": ".py",
   "mimetype": "text/x-python",
   "name": "python",
   "nbconvert_exporter": "python",
   "pygments_lexer": "ipython3",
   "version": "3.8.3"
  }
 },
 "nbformat": 4,
 "nbformat_minor": 4
}
